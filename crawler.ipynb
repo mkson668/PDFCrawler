{
 "cells": [
  {
   "cell_type": "code",
   "execution_count": 5,
   "metadata": {},
   "outputs": [],
   "source": [
    "import pandas as pd"
   ]
  },
  {
   "cell_type": "code",
   "execution_count": 90,
   "metadata": {},
   "outputs": [
    {
     "data": {
      "text/plain": [
       "(496, 1)"
      ]
     },
     "execution_count": 90,
     "metadata": {},
     "output_type": "execute_result"
    }
   ],
   "source": [
    "pdf_df = pd.read_excel(\"pdf_links.xlsx\")\n",
    "pdf_df.shape"
   ]
  },
  {
   "cell_type": "code",
   "execution_count": 7,
   "metadata": {},
   "outputs": [
    {
     "data": {
      "text/html": [
       "<div>\n",
       "<style scoped>\n",
       "    .dataframe tbody tr th:only-of-type {\n",
       "        vertical-align: middle;\n",
       "    }\n",
       "\n",
       "    .dataframe tbody tr th {\n",
       "        vertical-align: top;\n",
       "    }\n",
       "\n",
       "    .dataframe thead th {\n",
       "        text-align: right;\n",
       "    }\n",
       "</style>\n",
       "<table border=\"1\" class=\"dataframe\">\n",
       "  <thead>\n",
       "    <tr style=\"text-align: right;\">\n",
       "      <th></th>\n",
       "      <th>traversed_link</th>\n",
       "    </tr>\n",
       "  </thead>\n",
       "  <tbody>\n",
       "    <tr>\n",
       "      <th>0</th>\n",
       "      <td>https://www.cncbinternational.com/home/en/inde...</td>\n",
       "    </tr>\n",
       "    <tr>\n",
       "      <th>1</th>\n",
       "      <td>https://www.cncbinternational.com/personal/inv...</td>\n",
       "    </tr>\n",
       "    <tr>\n",
       "      <th>2</th>\n",
       "      <td>https://www.cncbinternational.com/internationa...</td>\n",
       "    </tr>\n",
       "    <tr>\n",
       "      <th>3</th>\n",
       "      <td>https://www.cncbinternational.com/personal/e-b...</td>\n",
       "    </tr>\n",
       "    <tr>\n",
       "      <th>4</th>\n",
       "      <td>https://www.cncbinternational.com/personal/mor...</td>\n",
       "    </tr>\n",
       "    <tr>\n",
       "      <th>...</th>\n",
       "      <td>...</td>\n",
       "    </tr>\n",
       "    <tr>\n",
       "      <th>331</th>\n",
       "      <td>https://www.cncbinternational.com/buy_order.html</td>\n",
       "    </tr>\n",
       "    <tr>\n",
       "      <th>332</th>\n",
       "      <td>https://www.cncbinternational.com/index</td>\n",
       "    </tr>\n",
       "    <tr>\n",
       "      <th>333</th>\n",
       "      <td>https://www.cncbinternational.com/cash-in-inst...</td>\n",
       "    </tr>\n",
       "    <tr>\n",
       "      <th>334</th>\n",
       "      <td>https://www.cncbinternational.com/airport_limo...</td>\n",
       "    </tr>\n",
       "    <tr>\n",
       "      <th>335</th>\n",
       "      <td>https://www.cncbinternational.com/plazapremium...</td>\n",
       "    </tr>\n",
       "  </tbody>\n",
       "</table>\n",
       "<p>336 rows × 1 columns</p>\n",
       "</div>"
      ],
      "text/plain": [
       "                                        traversed_link\n",
       "0    https://www.cncbinternational.com/home/en/inde...\n",
       "1    https://www.cncbinternational.com/personal/inv...\n",
       "2    https://www.cncbinternational.com/internationa...\n",
       "3    https://www.cncbinternational.com/personal/e-b...\n",
       "4    https://www.cncbinternational.com/personal/mor...\n",
       "..                                                 ...\n",
       "331   https://www.cncbinternational.com/buy_order.html\n",
       "332            https://www.cncbinternational.com/index\n",
       "333  https://www.cncbinternational.com/cash-in-inst...\n",
       "334  https://www.cncbinternational.com/airport_limo...\n",
       "335  https://www.cncbinternational.com/plazapremium...\n",
       "\n",
       "[336 rows x 1 columns]"
      ]
     },
     "execution_count": 7,
     "metadata": {},
     "output_type": "execute_result"
    }
   ],
   "source": [
    "traversed_df = pd.read_excel(\"traversed_links.xlsx\")\n",
    "traversed_df"
   ]
  },
  {
   "cell_type": "code",
   "execution_count": 106,
   "metadata": {},
   "outputs": [
    {
     "name": "stdout",
     "output_type": "stream",
     "text": [
      "(490, 3)\n"
     ]
    },
    {
     "data": {
      "text/plain": [
       "'/Users/aaronwong/Desktop/projects/cncbi-index-crawler/test_pdf_files.zip'"
      ]
     },
     "execution_count": 106,
     "metadata": {},
     "output_type": "execute_result"
    }
   ],
   "source": [
    "import json\n",
    "import shutil\n",
    "import os\n",
    "\n",
    "result_df = pd.read_json(\"result_dl.json\", orient = \"records\")\n",
    "result_df = result_df[result_df[\"dl_status\"]]\n",
    "print(result_df.shape)\n",
    "result_df = result_df.rename(columns={\n",
    "    \"original_url\": \"link\",\n",
    "    \"file_name\": \"filename\"\n",
    "})\n",
    "result_df[\"file_display_name\"] = result_df[\"filename\"]\n",
    "result_df = result_df.drop(columns=[\"dl_status\"])\n",
    "result_df = result_df[\n",
    "    [\n",
    "        \"filename\",\n",
    "        \"link\",\n",
    "        \"file_display_name\"\n",
    "    ]\n",
    "]\n",
    "result_dict_arr = result_df.to_dict(orient=\"records\")\n",
    "\n",
    "with open(\"pdf_files/danswer_metadata.json\", \"w\", encoding=\"utf-8\") as f_handle:\n",
    "    result_json = json.dump(result_dict_arr, f_handle)\n",
    "\n",
    "folder_to_zip = 'pdf_files'\n",
    "\n",
    "# Specify the output path and name for the zip file\n",
    "output_name = 'pdf_files'\n",
    "\n",
    "# Create the zip file\n",
    "shutil.make_archive(output_name, 'zip', folder_to_zip)"
   ]
  },
  {
   "cell_type": "code",
   "execution_count": 96,
   "metadata": {},
   "outputs": [
    {
     "data": {
      "text/plain": [
       "False"
      ]
     },
     "execution_count": 96,
     "metadata": {},
     "output_type": "execute_result"
    }
   ],
   "source": [
    "result_df = pd.read_json(\"result_dl.json\", orient = \"records\")\n",
    "result_df[\"file_name\"].is_unique"
   ]
  },
  {
   "cell_type": "code",
   "execution_count": 93,
   "metadata": {},
   "outputs": [
    {
     "data": {
      "text/plain": [
       "True"
      ]
     },
     "execution_count": 93,
     "metadata": {},
     "output_type": "execute_result"
    }
   ],
   "source": [
    "pdf_df[\"pdf_link\"].is_unique"
   ]
  },
  {
   "cell_type": "code",
   "execution_count": 79,
   "metadata": {},
   "outputs": [
    {
     "data": {
      "text/plain": [
       "385"
      ]
     },
     "execution_count": 79,
     "metadata": {},
     "output_type": "execute_result"
    }
   ],
   "source": [
    "import os\n",
    "def text_files_to_list(folder_path):\n",
    "    file_contents = []\n",
    "    \n",
    "    for filename in os.listdir(folder_path):\n",
    "        if filename.endswith('.pdf'): \n",
    "            file_contents.append(filename)\n",
    "\n",
    "    return file_contents\n",
    "\n",
    "real_file_arr = text_files_to_list(\"pdf_files\")\n",
    "len(real_file_arr)"
   ]
  },
  {
   "cell_type": "code",
   "execution_count": null,
   "metadata": {},
   "outputs": [],
   "source": [
    "orig_file_arr = result_df[\"filename\"].to_list()\n",
    "orig_file_arr"
   ]
  },
  {
   "cell_type": "code",
   "execution_count": 86,
   "metadata": {},
   "outputs": [
    {
     "data": {
      "text/plain": [
       "set()"
      ]
     },
     "execution_count": 86,
     "metadata": {},
     "output_type": "execute_result"
    }
   ],
   "source": [
    "set(orig_file_arr) - set(real_file_arr)"
   ]
  },
  {
   "cell_type": "code",
   "execution_count": 101,
   "metadata": {},
   "outputs": [],
   "source": [
    "metadata_df = pd.read_json(\"./pdf_files/danswer_metadata.json\")"
   ]
  },
  {
   "cell_type": "code",
   "execution_count": 103,
   "metadata": {},
   "outputs": [
    {
     "data": {
      "text/plain": [
       "490"
      ]
     },
     "execution_count": 103,
     "metadata": {},
     "output_type": "execute_result"
    }
   ],
   "source": [
    "len(metadata_df)"
   ]
  },
  {
   "cell_type": "code",
   "execution_count": null,
   "metadata": {},
   "outputs": [],
   "source": []
  }
 ],
 "metadata": {
  "kernelspec": {
   "display_name": "crawlervenv",
   "language": "python",
   "name": "python3"
  },
  "language_info": {
   "codemirror_mode": {
    "name": "ipython",
    "version": 3
   },
   "file_extension": ".py",
   "mimetype": "text/x-python",
   "name": "python",
   "nbconvert_exporter": "python",
   "pygments_lexer": "ipython3",
   "version": "3.10.6"
  }
 },
 "nbformat": 4,
 "nbformat_minor": 2
}
