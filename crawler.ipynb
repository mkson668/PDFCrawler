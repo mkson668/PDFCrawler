{
 "cells": [
  {
   "cell_type": "code",
   "execution_count": 5,
   "metadata": {},
   "outputs": [],
   "source": [
    "import pandas as pd"
   ]
  },
  {
   "cell_type": "code",
   "execution_count": 14,
   "metadata": {},
   "outputs": [
    {
     "data": {
      "text/plain": [
       "(496, 1)"
      ]
     },
     "execution_count": 14,
     "metadata": {},
     "output_type": "execute_result"
    }
   ],
   "source": [
    "pdf_df = pd.read_excel(\"pdf_links.xlsx\")\n",
    "pdf_df.shape"
   ]
  },
  {
   "cell_type": "code",
   "execution_count": 7,
   "metadata": {},
   "outputs": [
    {
     "data": {
      "text/html": [
       "<div>\n",
       "<style scoped>\n",
       "    .dataframe tbody tr th:only-of-type {\n",
       "        vertical-align: middle;\n",
       "    }\n",
       "\n",
       "    .dataframe tbody tr th {\n",
       "        vertical-align: top;\n",
       "    }\n",
       "\n",
       "    .dataframe thead th {\n",
       "        text-align: right;\n",
       "    }\n",
       "</style>\n",
       "<table border=\"1\" class=\"dataframe\">\n",
       "  <thead>\n",
       "    <tr style=\"text-align: right;\">\n",
       "      <th></th>\n",
       "      <th>traversed_link</th>\n",
       "    </tr>\n",
       "  </thead>\n",
       "  <tbody>\n",
       "    <tr>\n",
       "      <th>0</th>\n",
       "      <td>https://www.cncbinternational.com/home/en/inde...</td>\n",
       "    </tr>\n",
       "    <tr>\n",
       "      <th>1</th>\n",
       "      <td>https://www.cncbinternational.com/personal/inv...</td>\n",
       "    </tr>\n",
       "    <tr>\n",
       "      <th>2</th>\n",
       "      <td>https://www.cncbinternational.com/internationa...</td>\n",
       "    </tr>\n",
       "    <tr>\n",
       "      <th>3</th>\n",
       "      <td>https://www.cncbinternational.com/personal/e-b...</td>\n",
       "    </tr>\n",
       "    <tr>\n",
       "      <th>4</th>\n",
       "      <td>https://www.cncbinternational.com/personal/mor...</td>\n",
       "    </tr>\n",
       "    <tr>\n",
       "      <th>...</th>\n",
       "      <td>...</td>\n",
       "    </tr>\n",
       "    <tr>\n",
       "      <th>331</th>\n",
       "      <td>https://www.cncbinternational.com/buy_order.html</td>\n",
       "    </tr>\n",
       "    <tr>\n",
       "      <th>332</th>\n",
       "      <td>https://www.cncbinternational.com/index</td>\n",
       "    </tr>\n",
       "    <tr>\n",
       "      <th>333</th>\n",
       "      <td>https://www.cncbinternational.com/cash-in-inst...</td>\n",
       "    </tr>\n",
       "    <tr>\n",
       "      <th>334</th>\n",
       "      <td>https://www.cncbinternational.com/airport_limo...</td>\n",
       "    </tr>\n",
       "    <tr>\n",
       "      <th>335</th>\n",
       "      <td>https://www.cncbinternational.com/plazapremium...</td>\n",
       "    </tr>\n",
       "  </tbody>\n",
       "</table>\n",
       "<p>336 rows × 1 columns</p>\n",
       "</div>"
      ],
      "text/plain": [
       "                                        traversed_link\n",
       "0    https://www.cncbinternational.com/home/en/inde...\n",
       "1    https://www.cncbinternational.com/personal/inv...\n",
       "2    https://www.cncbinternational.com/internationa...\n",
       "3    https://www.cncbinternational.com/personal/e-b...\n",
       "4    https://www.cncbinternational.com/personal/mor...\n",
       "..                                                 ...\n",
       "331   https://www.cncbinternational.com/buy_order.html\n",
       "332            https://www.cncbinternational.com/index\n",
       "333  https://www.cncbinternational.com/cash-in-inst...\n",
       "334  https://www.cncbinternational.com/airport_limo...\n",
       "335  https://www.cncbinternational.com/plazapremium...\n",
       "\n",
       "[336 rows x 1 columns]"
      ]
     },
     "execution_count": 7,
     "metadata": {},
     "output_type": "execute_result"
    }
   ],
   "source": [
    "traversed_df = pd.read_excel(\"traversed_links.xlsx\")\n",
    "traversed_df"
   ]
  },
  {
   "cell_type": "code",
   "execution_count": 11,
   "metadata": {},
   "outputs": [
    {
     "data": {
      "text/html": [
       "<div>\n",
       "<style scoped>\n",
       "    .dataframe tbody tr th:only-of-type {\n",
       "        vertical-align: middle;\n",
       "    }\n",
       "\n",
       "    .dataframe tbody tr th {\n",
       "        vertical-align: top;\n",
       "    }\n",
       "\n",
       "    .dataframe thead th {\n",
       "        text-align: right;\n",
       "    }\n",
       "</style>\n",
       "<table border=\"1\" class=\"dataframe\">\n",
       "  <thead>\n",
       "    <tr style=\"text-align: right;\">\n",
       "      <th></th>\n",
       "      <th>traversed_link</th>\n",
       "    </tr>\n",
       "  </thead>\n",
       "  <tbody>\n",
       "    <tr>\n",
       "      <th>13</th>\n",
       "      <td>https://www.cncbinternational.com/personal/e-banking/inmotion/en/offers/monopoly-202109/index.html</td>\n",
       "    </tr>\n",
       "    <tr>\n",
       "      <th>294</th>\n",
       "      <td>https://www.cncbinternational.com/monopoly-202109/index.html</td>\n",
       "    </tr>\n",
       "  </tbody>\n",
       "</table>\n",
       "</div>"
      ],
      "text/plain": [
       "                                                                                         traversed_link\n",
       "13   https://www.cncbinternational.com/personal/e-banking/inmotion/en/offers/monopoly-202109/index.html\n",
       "294                                        https://www.cncbinternational.com/monopoly-202109/index.html"
      ]
     },
     "execution_count": 11,
     "metadata": {},
     "output_type": "execute_result"
    }
   ],
   "source": [
    "pd.set_option(\"display.max_colwidth\", None) \n",
    "traversed_df[traversed_df[\"traversed_link\"].str.contains(\"monopoly\")]"
   ]
  },
  {
   "cell_type": "code",
   "execution_count": 13,
   "metadata": {},
   "outputs": [
    {
     "data": {
      "text/html": [
       "<div>\n",
       "<style scoped>\n",
       "    .dataframe tbody tr th:only-of-type {\n",
       "        vertical-align: middle;\n",
       "    }\n",
       "\n",
       "    .dataframe tbody tr th {\n",
       "        vertical-align: top;\n",
       "    }\n",
       "\n",
       "    .dataframe thead th {\n",
       "        text-align: right;\n",
       "    }\n",
       "</style>\n",
       "<table border=\"1\" class=\"dataframe\">\n",
       "  <thead>\n",
       "    <tr style=\"text-align: right;\">\n",
       "      <th></th>\n",
       "      <th>pdf_link</th>\n",
       "    </tr>\n",
       "  </thead>\n",
       "  <tbody>\n",
       "    <tr>\n",
       "      <th>23</th>\n",
       "      <td>https://www.cncbinternational.com/_document/investment-products-service-fees-and-charges/en/investment-products-service-fees-and-charges.pdf</td>\n",
       "    </tr>\n",
       "    <tr>\n",
       "      <th>29</th>\n",
       "      <td>https://www.cncbinternational.com/_document/private-banking/en/private-banking-investment-products-and-bank-service-fees-and-charges-obsoleted-by-18-december-2023.pdf</td>\n",
       "    </tr>\n",
       "    <tr>\n",
       "      <th>42</th>\n",
       "      <td>https://www.cncbinternational.com/_document/bank-service-fees-and-charges/en/private-banking-investment-products-bank-service-fee-and-charges-singapore.pdf</td>\n",
       "    </tr>\n",
       "    <tr>\n",
       "      <th>95</th>\n",
       "      <td>https://www.cncbinternational.com/_document/bank-service-fees-and-charges/en/bank-service-fees-and-charges.pdf</td>\n",
       "    </tr>\n",
       "    <tr>\n",
       "      <th>105</th>\n",
       "      <td>https://www.cncbinternational.com/_document/previous-noc/en/bank-service-fees-and-charges-bb.pdf</td>\n",
       "    </tr>\n",
       "    <tr>\n",
       "      <th>147</th>\n",
       "      <td>https://www.cncbinternational.com/_document/private-banking/en/pb-fees-and-charges.pdf</td>\n",
       "    </tr>\n",
       "    <tr>\n",
       "      <th>161</th>\n",
       "      <td>https://www.cncbinternational.com/_document/bank-service-fees-and-charges/en/general-services.pdf</td>\n",
       "    </tr>\n",
       "    <tr>\n",
       "      <th>178</th>\n",
       "      <td>https://www.cncbinternational.com/_document/previous-noc/en/bank-service-fees-and-charges-obsoleted-240524.pdf</td>\n",
       "    </tr>\n",
       "    <tr>\n",
       "      <th>217</th>\n",
       "      <td>https://www.cncbinternational.com/_document/bank-service-fees-and-charges/en/terms-and-conditions-for-citicfirst-wealth-management-service.pdf</td>\n",
       "    </tr>\n",
       "    <tr>\n",
       "      <th>226</th>\n",
       "      <td>https://www.cncbinternational.com/_document/bank-service-fees-and-charges/en/wholesale-banking-fees-and-charges.pdf</td>\n",
       "    </tr>\n",
       "    <tr>\n",
       "      <th>249</th>\n",
       "      <td>https://www.cncbinternational.com/_document/previous-noc/en/bank-service-fees-and-charges.pdf</td>\n",
       "    </tr>\n",
       "    <tr>\n",
       "      <th>263</th>\n",
       "      <td>https://www.cncbinternational.com/_document/investment-products-service-fees-and-charges/en/investment-products-service-fees-and-charges-obsoleted-by-18-december-2023.pdf</td>\n",
       "    </tr>\n",
       "  </tbody>\n",
       "</table>\n",
       "</div>"
      ],
      "text/plain": [
       "                                                                                                                                                                       pdf_link\n",
       "23                                 https://www.cncbinternational.com/_document/investment-products-service-fees-and-charges/en/investment-products-service-fees-and-charges.pdf\n",
       "29       https://www.cncbinternational.com/_document/private-banking/en/private-banking-investment-products-and-bank-service-fees-and-charges-obsoleted-by-18-december-2023.pdf\n",
       "42                  https://www.cncbinternational.com/_document/bank-service-fees-and-charges/en/private-banking-investment-products-bank-service-fee-and-charges-singapore.pdf\n",
       "95                                                               https://www.cncbinternational.com/_document/bank-service-fees-and-charges/en/bank-service-fees-and-charges.pdf\n",
       "105                                                                            https://www.cncbinternational.com/_document/previous-noc/en/bank-service-fees-and-charges-bb.pdf\n",
       "147                                                                                      https://www.cncbinternational.com/_document/private-banking/en/pb-fees-and-charges.pdf\n",
       "161                                                                           https://www.cncbinternational.com/_document/bank-service-fees-and-charges/en/general-services.pdf\n",
       "178                                                              https://www.cncbinternational.com/_document/previous-noc/en/bank-service-fees-and-charges-obsoleted-240524.pdf\n",
       "217                              https://www.cncbinternational.com/_document/bank-service-fees-and-charges/en/terms-and-conditions-for-citicfirst-wealth-management-service.pdf\n",
       "226                                                         https://www.cncbinternational.com/_document/bank-service-fees-and-charges/en/wholesale-banking-fees-and-charges.pdf\n",
       "249                                                                               https://www.cncbinternational.com/_document/previous-noc/en/bank-service-fees-and-charges.pdf\n",
       "263  https://www.cncbinternational.com/_document/investment-products-service-fees-and-charges/en/investment-products-service-fees-and-charges-obsoleted-by-18-december-2023.pdf"
      ]
     },
     "execution_count": 13,
     "metadata": {},
     "output_type": "execute_result"
    }
   ],
   "source": [
    "pdf_df[pdf_df[\"pdf_link\"].str.contains(\"fees-and\")]"
   ]
  },
  {
   "cell_type": "code",
   "execution_count": 15,
   "metadata": {},
   "outputs": [
    {
     "name": "stdout",
     "output_type": "stream",
     "text": [
      "File downloaded successfully: bank-service-fees-and-charges.pdf\n"
     ]
    }
   ],
   "source": [
    "import requests\n",
    "\n",
    "def download_file(url, filename):\n",
    "    try:\n",
    "        # Send a GET request to the URL\n",
    "        response = requests.get(url, stream=True)\n",
    "        response.raise_for_status()  # Raise an exception for bad status codes\n",
    "        \n",
    "        # Open the file in binary write mode\n",
    "        with open(filename, 'wb') as file:\n",
    "            # Iterate over the response data in chunks\n",
    "            for chunk in response.iter_content(chunk_size=8192):\n",
    "                # Write each chunk to the file\n",
    "                file.write(chunk)\n",
    "        \n",
    "        print(f\"File downloaded successfully: {filename}\")\n",
    "    except requests.RequestException as e:\n",
    "        print(f\"Error downloading file: {e}\")\n",
    "\n",
    "# Example usage\n",
    "url = \"https://www.cncbinternational.com/_document/previous-noc/en/bank-service-fees-and-charges.pdf\"\n",
    "filename = \"pdf_files/bank-service-fees-and-charges.pdf\"\n",
    "download_file(url, filename)"
   ]
  },
  {
   "cell_type": "code",
   "execution_count": null,
   "metadata": {},
   "outputs": [],
   "source": []
  }
 ],
 "metadata": {
  "kernelspec": {
   "display_name": "crawlervenv",
   "language": "python",
   "name": "python3"
  },
  "language_info": {
   "codemirror_mode": {
    "name": "ipython",
    "version": 3
   },
   "file_extension": ".py",
   "mimetype": "text/x-python",
   "name": "python",
   "nbconvert_exporter": "python",
   "pygments_lexer": "ipython3",
   "version": "3.10.6"
  }
 },
 "nbformat": 4,
 "nbformat_minor": 2
}
